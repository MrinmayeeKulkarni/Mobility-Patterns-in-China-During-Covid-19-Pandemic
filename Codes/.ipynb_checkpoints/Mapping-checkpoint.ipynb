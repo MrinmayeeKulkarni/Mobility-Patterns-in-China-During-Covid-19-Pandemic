{
 "cells": [
  {
   "cell_type": "code",
   "execution_count": null,
   "metadata": {},
   "outputs": [],
   "source": [
    "import pandas as pd\n",
    "import numpy as np\n",
    "import plotly.express as px\n",
    "import plotly.graph_objects as go\n",
    "import io\n",
    "# Loading the 2020 data \n",
    "path = './Data/'\n",
    "filename ='mapping_origin.csv'\n",
    "filename1 ='mapping_dest.csv'\n",
    "\n",
    "df = pd.read_csv(path+filename,low_memory=False)\n",
    "df.head()"
   ]
  },
  {
   "cell_type": "markdown",
   "metadata": {},
   "source": [
    "### 2020 Mapping"
   ]
  },
  {
   "cell_type": "code",
   "execution_count": null,
   "metadata": {},
   "outputs": [],
   "source": [
    "df.drop(['Unnamed: 0'], axis=1, inplace=True)\n",
    "df.columns"
   ]
  },
  {
   "cell_type": "code",
   "execution_count": null,
   "metadata": {},
   "outputs": [],
   "source": [
    "df.rename(columns={\"Valsum\":\"Mobility\"},inplace=True)\n",
    "df.head()"
   ]
  },
  {
   "cell_type": "code",
   "execution_count": null,
   "metadata": {},
   "outputs": [],
   "source": [
    "# loading city code file\n",
    "df1 = pd.read_csv(path+filename1,low_memory=False)\n",
    "df1.head()"
   ]
  },
  {
   "cell_type": "code",
   "execution_count": null,
   "metadata": {},
   "outputs": [],
   "source": [
    "df1.rename(columns={\"Valsum\":\"Mobility\"},inplace=True)"
   ]
  },
  {
   "cell_type": "code",
   "execution_count": null,
   "metadata": {},
   "outputs": [],
   "source": [
    "#Origin Bubble plot\n",
    "\n",
    "fig = px.scatter_mapbox(df, lat=\"Y_o\", lon=\"X_o\", hover_name=\"origin_city\", hover_data=[\"origin_city\", \"Mobility\"], \n",
    "                        color=\"Mobility\",\n",
    "                        size=\"Mobility\", color_continuous_scale=px.colors.sequential.Inferno, size_max=50,\n",
    "                        zoom=4, height=1000, mapbox_style=\"open-street-map\")\n",
    "fig.update_layout(margin={\"r\":0,\"t\":0,\"l\":0,\"b\":0})\n",
    "#fig.write_html(\"./Media/origin_bubble.html\")\n",
    "fig.show()"
   ]
  },
  {
   "cell_type": "code",
   "execution_count": null,
   "metadata": {},
   "outputs": [],
   "source": [
    "# Destination Bubble Plot\n",
    "\n",
    "fig = px.scatter_mapbox(df1, lat=\"Y_d\", lon=\"X_d\", hover_name=\"dest_city\", hover_data=[\"dest_city\", \"Mobility\"], \n",
    "                        color=\"Mobility\",\n",
    "                        size=\"Mobility\", color_continuous_scale=px.colors.sequential.Inferno, size_max=50,\n",
    "                        zoom=4, height=1000, mapbox_style=\"open-street-map\")\n",
    "fig.update_layout(margin={\"r\":0,\"t\":0,\"l\":0,\"b\":0})\n",
    "fig.write_html(\"./Media/dest_bubble.html\")\n",
    "fig.show()"
   ]
  },
  {
   "cell_type": "markdown",
   "metadata": {},
   "source": [
    "### 2019 Mapping"
   ]
  },
  {
   "cell_type": "code",
   "execution_count": null,
   "metadata": {},
   "outputs": [],
   "source": [
    "# Loading the 2020 data \n",
    "path = './Data/'\n",
    "filename2 ='mapping_origin2019.csv'\n",
    "filename3 ='mapping_dest2019.csv'\n",
    "\n",
    "df2 = pd.read_csv(path+filename2,low_memory=False)\n",
    "df2.head()"
   ]
  },
  {
   "cell_type": "code",
   "execution_count": null,
   "metadata": {},
   "outputs": [],
   "source": [
    "df2.drop(['Unnamed: 0'], axis=1, inplace=True)\n",
    "df2.columns"
   ]
  },
  {
   "cell_type": "code",
   "execution_count": null,
   "metadata": {},
   "outputs": [],
   "source": [
    "df2.rename(columns={\"Val\":\"Mobility\"},inplace=True)\n",
    "df2.head()"
   ]
  },
  {
   "cell_type": "code",
   "execution_count": null,
   "metadata": {},
   "outputs": [],
   "source": [
    "df3 = pd.read_csv(path+filename3,low_memory=False)\n",
    "df3.head()"
   ]
  },
  {
   "cell_type": "code",
   "execution_count": null,
   "metadata": {},
   "outputs": [],
   "source": [
    "df3.drop(['Unnamed: 0'], axis=1, inplace=True)\n",
    "df3.columns"
   ]
  },
  {
   "cell_type": "code",
   "execution_count": null,
   "metadata": {},
   "outputs": [],
   "source": [
    "df3.rename(columns={\"Val\":\"Mobility\"},inplace=True)\n",
    "df3.head()"
   ]
  },
  {
   "cell_type": "code",
   "execution_count": null,
   "metadata": {},
   "outputs": [],
   "source": [
    "#Origin Bubble plot\n",
    "\n",
    "fig = px.scatter_mapbox(df2, lat=\"lat\", lon=\"lon\", hover_name=\"origin_city\", hover_data=[\"origin_city\", \"Mobility\"], \n",
    "                        color=\"Mobility\",\n",
    "                        size=\"Mobility\", color_continuous_scale=px.colors.sequential.Inferno, size_max=50,\n",
    "                        zoom=4, height=1000, mapbox_style=\"open-street-map\")\n",
    "fig.update_layout(margin={\"r\":0,\"t\":0,\"l\":0,\"b\":0})\n",
    "#fig.write_html(\"./Media/origin_bubble2019.html\")\n",
    "fig.show()"
   ]
  },
  {
   "cell_type": "code",
   "execution_count": null,
   "metadata": {},
   "outputs": [],
   "source": [
    "# Destination Bubble Plot\n",
    "\n",
    "fig = px.scatter_mapbox(df3, lat=\"lat\", lon=\"lon\", hover_name=\"dest_city\", hover_data=[\"dest_city\", \"Mobility\"], \n",
    "                        color=\"Mobility\",\n",
    "                        size=\"Mobility\", color_continuous_scale=px.colors.sequential.Inferno, size_max=50,\n",
    "                        zoom=4, height=1000, mapbox_style=\"open-street-map\")\n",
    "fig.update_layout(margin={\"r\":0,\"t\":0,\"l\":0,\"b\":0})\n",
    "#fig.write_html(\"./Media/dest_bubble2019.html\")\n",
    "fig.show()"
   ]
  },
  {
   "cell_type": "code",
   "execution_count": null,
   "metadata": {},
   "outputs": [],
   "source": []
  }
 ],
 "metadata": {
  "kernelspec": {
   "display_name": "Python 3",
   "language": "python",
   "name": "python3"
  },
  "language_info": {
   "codemirror_mode": {
    "name": "ipython",
    "version": 3
   },
   "file_extension": ".py",
   "mimetype": "text/x-python",
   "name": "python",
   "nbconvert_exporter": "python",
   "pygments_lexer": "ipython3",
   "version": "3.7.1"
  }
 },
 "nbformat": 4,
 "nbformat_minor": 2
}
