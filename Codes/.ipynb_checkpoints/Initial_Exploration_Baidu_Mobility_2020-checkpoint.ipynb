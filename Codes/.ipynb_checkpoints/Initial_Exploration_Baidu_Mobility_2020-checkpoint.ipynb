{
 "cells": [
  {
   "cell_type": "code",
   "execution_count": null,
   "metadata": {},
   "outputs": [],
   "source": [
    "# importing libraries\n",
    "import pandas as pd\n",
    "from collections import Counter\n",
    "import numpy as np\n",
    "import matplotlib.pyplot as plt\n",
    "import matplotlib.pyplot as cm\n",
    "from matplotlib.colors import hsv_to_rgb\n",
    "from cycler import cycler\n",
    "import matplotlib\n",
    "import seaborn as sns\n",
    "import plotly.express as px\n",
    "import plotly.graph_objects as go\n",
    "import io\n",
    "%matplotlib inline\n",
    "import warnings\n",
    "warnings.filterwarnings('ignore')"
   ]
  },
  {
   "cell_type": "code",
   "execution_count": null,
   "metadata": {},
   "outputs": [],
   "source": [
    "pd.set_option('display.max_columns', 500)"
   ]
  },
  {
   "cell_type": "code",
   "execution_count": null,
   "metadata": {},
   "outputs": [],
   "source": [
    "# Loading the data \n",
    "path = './Data/'\n",
    "filename ='city_code_en.csv'\n",
    "filename2 = 'flow_20200110_20200430_all.csv'\n",
    "\n",
    "# loading city code file\n",
    "df1 = pd.read_csv(path+filename,index_col='city_id')\n",
    "df1.head()"
   ]
  },
  {
   "cell_type": "markdown",
   "metadata": {},
   "source": [
    "### Data Cleaning and Exploration"
   ]
  },
  {
   "cell_type": "markdown",
   "metadata": {},
   "source": [
    "Trying to firgure out the encryption issue with column with 'Kunshan City' in the city_code_en file"
   ]
  },
  {
   "cell_type": "code",
   "execution_count": null,
   "metadata": {},
   "outputs": [],
   "source": [
    "df1[\"pro_name\"].unique()"
   ]
  },
  {
   "cell_type": "code",
   "execution_count": null,
   "metadata": {},
   "outputs": [],
   "source": [
    "df1.head(81)"
   ]
  },
  {
   "cell_type": "code",
   "execution_count": null,
   "metadata": {},
   "outputs": [],
   "source": [
    "df1.drop('320583 Kunshan City',inplace=True)"
   ]
  },
  {
   "cell_type": "code",
   "execution_count": null,
   "metadata": {},
   "outputs": [],
   "source": [
    "df1.head(81)"
   ]
  },
  {
   "cell_type": "code",
   "execution_count": null,
   "metadata": {},
   "outputs": [],
   "source": [
    "df1.reset_index(drop=False,inplace=True)"
   ]
  },
  {
   "cell_type": "code",
   "execution_count": null,
   "metadata": {},
   "outputs": [],
   "source": [
    "new_entry = ['320583', 'Kunshan City', '320000','Jiangsu Province']  \n",
    "df1.append(pd.Series(new_entry, index=df1.columns[:len(new_entry)]), ignore_index=True)"
   ]
  },
  {
   "cell_type": "code",
   "execution_count": null,
   "metadata": {},
   "outputs": [],
   "source": [
    "df1.head()"
   ]
  },
  {
   "cell_type": "code",
   "execution_count": null,
   "metadata": {},
   "outputs": [],
   "source": [
    "name_list=df1['city_name'].tolist()"
   ]
  },
  {
   "cell_type": "code",
   "execution_count": null,
   "metadata": {},
   "outputs": [],
   "source": [
    "d =  Counter(name_list)  # -> Counter\n",
    "res = [k for k, v in d.items() if v > 1]\n",
    "print(res)"
   ]
  },
  {
   "cell_type": "code",
   "execution_count": null,
   "metadata": {},
   "outputs": [],
   "source": [
    "df1.shape"
   ]
  },
  {
   "cell_type": "code",
   "execution_count": null,
   "metadata": {},
   "outputs": [],
   "source": [
    "df1['city_id'].nunique()"
   ]
  },
  {
   "cell_type": "markdown",
   "metadata": {},
   "source": [
    "\n",
    "## Data cleaning and Aggregation"
   ]
  },
  {
   "cell_type": "code",
   "execution_count": null,
   "metadata": {
    "scrolled": true
   },
   "outputs": [],
   "source": [
    "# Reading in the mobility data\n",
    "df2=pd.read_csv(path+filename2)\n",
    "crs={'init':'EPSG:4326'}\n",
    "df2.head()"
   ]
  },
  {
   "cell_type": "code",
   "execution_count": null,
   "metadata": {},
   "outputs": [],
   "source": [
    "df2[\"city_id_o\"]=df2[\"city_id_o\"].astype(int)"
   ]
  },
  {
   "cell_type": "code",
   "execution_count": null,
   "metadata": {},
   "outputs": [],
   "source": [
    "df2[\"city_id_d\"]=df2[\"city_id_d\"].astype(int)"
   ]
  },
  {
   "cell_type": "code",
   "execution_count": null,
   "metadata": {},
   "outputs": [],
   "source": [
    "df2[\"city_id_o\"]=df2[\"city_id_o\"].astype(str)"
   ]
  },
  {
   "cell_type": "code",
   "execution_count": null,
   "metadata": {},
   "outputs": [],
   "source": [
    "df2[\"city_id_d\"]=df2[\"city_id_d\"].astype(str)"
   ]
  },
  {
   "cell_type": "code",
   "execution_count": null,
   "metadata": {},
   "outputs": [],
   "source": [
    "df2.head()"
   ]
  },
  {
   "cell_type": "code",
   "execution_count": null,
   "metadata": {},
   "outputs": [],
   "source": [
    "df2.shape"
   ]
  },
  {
   "cell_type": "code",
   "execution_count": null,
   "metadata": {},
   "outputs": [],
   "source": [
    "df2['city_id_o'].nunique()"
   ]
  },
  {
   "cell_type": "code",
   "execution_count": null,
   "metadata": {},
   "outputs": [],
   "source": [
    "df2['city_id_d'].nunique()"
   ]
  },
  {
   "cell_type": "code",
   "execution_count": null,
   "metadata": {},
   "outputs": [],
   "source": [
    "# Dropping the columns in foreign language\n",
    "df2.drop(df2.iloc[:, 0:4], axis=1, inplace=True)\n",
    "df2.head()"
   ]
  },
  {
   "cell_type": "code",
   "execution_count": null,
   "metadata": {},
   "outputs": [],
   "source": [
    "# Mapping columns with city_id_o and city_id_d with origin city and destination city in the main flows dataframe\n",
    "df2[\"origin_city\"] = df2[\"city_id_o\"].map(df1.set_index(\"city_id\")[\"city_name\"])\n",
    "df2[\"dest_city\"] = df2[\"city_id_d\"].map(df1.set_index(\"city_id\")[\"city_name\"])\n",
    "df2[\"origin_province\"] = df2[\"city_id_o\"].map(df1.set_index(\"city_id\")[\"pro_name\"])\n",
    "df2[\"dest_province\"] = df2[\"city_id_d\"].map(df1.set_index(\"city_id\")[\"pro_name\"])"
   ]
  },
  {
   "cell_type": "code",
   "execution_count": null,
   "metadata": {},
   "outputs": [],
   "source": [
    "df2['city_id_o'].nunique()"
   ]
  },
  {
   "cell_type": "code",
   "execution_count": null,
   "metadata": {},
   "outputs": [],
   "source": [
    "df2['city_id_d'].nunique()"
   ]
  },
  {
   "cell_type": "code",
   "execution_count": null,
   "metadata": {},
   "outputs": [],
   "source": [
    "# this is because there are many same name cities in same or different provinces\n",
    "df2['origin_city'].nunique()"
   ]
  },
  {
   "cell_type": "code",
   "execution_count": null,
   "metadata": {},
   "outputs": [],
   "source": [
    "df2['origin_province'].nunique()"
   ]
  },
  {
   "cell_type": "code",
   "execution_count": null,
   "metadata": {},
   "outputs": [],
   "source": [
    "df2.head()"
   ]
  },
  {
   "cell_type": "code",
   "execution_count": null,
   "metadata": {},
   "outputs": [],
   "source": [
    "df2[\"origin_city\"] = df2[\"origin_city\"].str.replace(\"City\",\"\")\n",
    "df2[\"origin_province\"] = df2[\"origin_province\"].str.replace(\"Province\",\"\")\n",
    "df2[\"dest_city\"] = df2[\"dest_city\"].str.replace(\"City\",\"\")\n",
    "df2[\"dest_province\"] = df2[\"dest_province\"].str.replace(\"Province\",\"\")"
   ]
  },
  {
   "cell_type": "code",
   "execution_count": null,
   "metadata": {},
   "outputs": [],
   "source": [
    "df2['origin_city'].nunique()"
   ]
  },
  {
   "cell_type": "code",
   "execution_count": null,
   "metadata": {},
   "outputs": [],
   "source": [
    "df2['city_id_o'].nunique()"
   ]
  },
  {
   "cell_type": "code",
   "execution_count": null,
   "metadata": {},
   "outputs": [],
   "source": [
    "# Reordering the dataframe for better layout \n",
    "cols_to_order=['origin_city','origin_province','city_id_o','X_o','Y_o','dest_city','dest_province','city_id_d','X_d','Y_d']\n",
    "new_columns = cols_to_order + (df2.columns.drop(cols_to_order).tolist())\n",
    "df2=df2[new_columns]\n",
    "df2.head()"
   ]
  },
  {
   "cell_type": "code",
   "execution_count": null,
   "metadata": {},
   "outputs": [],
   "source": [
    "df2.shape"
   ]
  },
  {
   "cell_type": "code",
   "execution_count": null,
   "metadata": {},
   "outputs": [],
   "source": [
    "# Aggregating weekly data for the whole data file\n",
    "a= df2.set_index(['origin_city','origin_province','city_id_o','X_o','Y_o','dest_city','dest_province','city_id_d','X_d','Y_d']).rename(columns=lambda x: pd.to_datetime(x))\n",
    "a = a.resample('W', axis=1).sum().reset_index()\n",
    "a.head(20)"
   ]
  },
  {
   "cell_type": "code",
   "execution_count": null,
   "metadata": {},
   "outputs": [],
   "source": [
    "old_names = a.columns.tolist()\n",
    "old_names"
   ]
  },
  {
   "cell_type": "code",
   "execution_count": null,
   "metadata": {},
   "outputs": [],
   "source": [
    "new_names = ['origin_city','origin_province','city_id_o','X_o','Y_o','dest_city','dest_province','city_id_d','X_d','Y_d','Week1','Week2','Week3','Week4','Week5','Week6','Week7','Week8','Week9','Week10','Week11','Week12','Week13','Week14','Week15','Week16','Week17'] "
   ]
  },
  {
   "cell_type": "code",
   "execution_count": null,
   "metadata": {},
   "outputs": [],
   "source": [
    "a = a.rename(columns=dict(zip(old_names, new_names))) \n",
    "a.head()"
   ]
  },
  {
   "cell_type": "code",
   "execution_count": null,
   "metadata": {},
   "outputs": [],
   "source": [
    "#saving the weekly aggregated file\n",
    "#a.to_csv('./Data/weekly_aggregation_final.csv',index=False)"
   ]
  },
  {
   "cell_type": "code",
   "execution_count": null,
   "metadata": {},
   "outputs": [],
   "source": [
    "a.shape"
   ]
  },
  {
   "cell_type": "code",
   "execution_count": null,
   "metadata": {},
   "outputs": [],
   "source": [
    "a.describe()"
   ]
  },
  {
   "cell_type": "markdown",
   "metadata": {},
   "source": [
    "### Descriptive Statistics"
   ]
  },
  {
   "cell_type": "code",
   "execution_count": null,
   "metadata": {},
   "outputs": [],
   "source": [
    "#Total sum per column: \n",
    "totl=a.copy()\n",
    "tot=totl.drop(['origin_city','origin_province','city_id_o','X_o','Y_o','dest_city','dest_province','city_id_d','X_d','Y_d'],axis=1)\n",
    "tot.loc['Total',:]= totl.sum(axis=0)\n",
    "\n",
    "#Total sum per row: \n",
    "tot.loc[:,'Total'] = totl.sum(axis=1)\n",
    "# Total devices\n",
    "tot.tail(1)\n",
    "#tot.to_csv('./Data/summarytables/total_sum_by_column.csv',index=False)"
   ]
  },
  {
   "cell_type": "code",
   "execution_count": null,
   "metadata": {},
   "outputs": [],
   "source": [
    "# Total sum by Origin City \n",
    "orig_city_sum=a.groupby(['origin_city'])[[\"Week1\", \"Week2\", \"Week3\",\"Week4\",\"Week5\",\"Week6\",\"Week7\",\"Week8\",\"Week9\",\"Week10\",\"Week11\", \"Week12\", \"Week13\",\"Week14\",\"Week15\",\"Week16\",\"Week17\"]].sum().reset_index()\n",
    "#orig_city_sum.to_csv('./Data/summarytables/2020/total_sum_by_origin_city_2020.csv',index=False)\n",
    "orig_city_sum.tail(5)"
   ]
  },
  {
   "cell_type": "code",
   "execution_count": null,
   "metadata": {},
   "outputs": [],
   "source": [
    "# Total sum by Destination City \n",
    "dest_city_sum=a.groupby(['dest_city'])[[\"Week1\", \"Week2\", \"Week3\",\"Week4\",\"Week5\",\"Week6\",\"Week7\",\"Week8\",\"Week9\",\"Week10\",\"Week11\", \"Week12\", \"Week13\",\"Week14\",\"Week15\",\"Week16\",\"Week17\"]].sum().reset_index()\n",
    "#dest_city_sum.to_csv('./Data/summarytables/2020/total_sum_by_destination_city_2020.csv',index=False)\n",
    "dest_city_sum.tail(5)"
   ]
  },
  {
   "cell_type": "code",
   "execution_count": null,
   "metadata": {},
   "outputs": [],
   "source": [
    "# Total sum by Origin Province \n",
    "orig_prov_sum=a.groupby(['origin_province'])[[\"Week1\", \"Week2\", \"Week3\",\"Week4\",\"Week5\",\"Week6\",\"Week7\",\"Week8\",\"Week9\",\"Week10\",\"Week11\", \"Week12\", \"Week13\",\"Week14\",\"Week15\",\"Week16\",\"Week17\"]].sum().reset_index()\n",
    "#orig_prov_sum.to_csv('./Data/summarytables/2020/total_sum_by_origin_province_2020.csv',index=False)\n",
    "orig_prov_sum.tail(5)"
   ]
  },
  {
   "cell_type": "code",
   "execution_count": null,
   "metadata": {},
   "outputs": [],
   "source": [
    "# Total sum by Destination Province \n",
    "dest_prov_sum=a.groupby(['dest_province'])[[\"Week1\", \"Week2\", \"Week3\",\"Week4\",\"Week5\",\"Week6\",\"Week7\",\"Week8\",\"Week9\",\"Week10\",\"Week11\", \"Week12\", \"Week13\",\"Week14\",\"Week15\",\"Week16\",\"Week17\"]].sum().reset_index()\n",
    "#dest_prov_sum.to_csv('./Data/summarytables/2020/total_sum_by_destination_province_2020.csv',index=False)\n",
    "dest_prov_sum.tail(5)"
   ]
  },
  {
   "cell_type": "code",
   "execution_count": null,
   "metadata": {},
   "outputs": [],
   "source": [
    "# Percentage by origin city\n",
    "tot_orig_perc=a.groupby(['origin_city','origin_province']).sum().reset_index()\n",
    "tot_orig_perc.drop(['X_o','Y_o','X_d','Y_d'],axis=1,inplace=True)\n",
    "total = np.sum(tot_orig_perc.loc[:,'Week1':].values)\n",
    "tot_orig_perc['Percent'] = tot_orig_perc.loc[:,'Week1':].sum(axis=1)/total * 100\n",
    "#tot_orig_perc.to_csv('./Data/summarytables/total_origin_perc.csv',index=False)\n",
    "tot_orig_perc"
   ]
  },
  {
   "cell_type": "code",
   "execution_count": null,
   "metadata": {},
   "outputs": [],
   "source": [
    "# Percentage by destination city\n",
    "tot_dest_perc=a.groupby(['dest_city','dest_province']).sum().reset_index()\n",
    "tot_dest_perc.drop(['X_o','Y_o','X_d','Y_d'],axis=1,inplace=True)\n",
    "total = np.sum(tot_dest_perc.loc[:,'Week1':].values)\n",
    "tot_dest_perc['Percent'] = tot_dest_perc.loc[:,'Week1':].sum(axis=1)/total * 100\n",
    "#tot_dest_perc.to_csv('./Data/summarytables/total_dest_perc.csv',index=False)\n",
    "tot_dest_perc"
   ]
  },
  {
   "cell_type": "code",
   "execution_count": null,
   "metadata": {},
   "outputs": [],
   "source": [
    "# Percentage by origin province\n",
    "tot_orig_percprov=a.groupby(['origin_province']).sum().reset_index()\n",
    "tot_orig_percprov.drop(['X_o','Y_o','X_d','Y_d'],axis=1,inplace=True)\n",
    "total = np.sum(tot_orig_percprov.loc[:,'Week1':].values)\n",
    "tot_orig_percprov['Percent'] = tot_orig_percprov.loc[:,'Week1':].sum(axis=1)/total * 100\n",
    "#tot_orig_percprov.to_csv('./Data/summarytables/total_orig_provperc.csv',index=False)\n",
    "tot_orig_percprov"
   ]
  },
  {
   "cell_type": "code",
   "execution_count": null,
   "metadata": {},
   "outputs": [],
   "source": [
    "# Percentage by destination province\n",
    "tot_dest_percprov=a.groupby(['dest_province']).sum().reset_index()\n",
    "tot_dest_percprov.drop(['X_o','Y_o','X_d','Y_d'],axis=1,inplace=True)\n",
    "total = np.sum(tot_dest_percprov.loc[:,'Week1':].values)\n",
    "tot_dest_percprov['Percent'] = tot_dest_percprov.loc[:,'Week1':].sum(axis=1)/total * 100\n",
    "#tot_dest_percprov.to_csv('./Data/summarytables/total_dest_provperc.csv',index=False)\n",
    "tot_dest_percprov"
   ]
  },
  {
   "cell_type": "code",
   "execution_count": null,
   "metadata": {},
   "outputs": [],
   "source": [
    "a['origin_city'].nunique()"
   ]
  },
  {
   "cell_type": "code",
   "execution_count": null,
   "metadata": {},
   "outputs": [],
   "source": [
    "# Aggregating by month\n",
    "a_m= df2.set_index(['origin_city','origin_province','city_id_o','X_o','Y_o','dest_city','dest_province','city_id_d','X_d','Y_d']).rename(columns=lambda x: pd.to_datetime(x))\n",
    "a_m = a_m.resample('M', axis=1).sum().reset_index()\n",
    "a_m.head(20)"
   ]
  },
  {
   "cell_type": "code",
   "execution_count": null,
   "metadata": {},
   "outputs": [],
   "source": [
    "# Describing the aggregation by week\n",
    "a.describe()"
   ]
  },
  {
   "cell_type": "code",
   "execution_count": null,
   "metadata": {},
   "outputs": [],
   "source": [
    "#df2.to_csv('./Data/final_file.csv')"
   ]
  },
  {
   "cell_type": "markdown",
   "metadata": {},
   "source": [
    "### Data Manipulation for Mapping"
   ]
  },
  {
   "cell_type": "markdown",
   "metadata": {},
   "source": [
    "Getting flows and locations files for the Flowmap visualizations"
   ]
  },
  {
   "cell_type": "code",
   "execution_count": null,
   "metadata": {},
   "outputs": [],
   "source": [
    "# Pivoting the data file \n",
    "visual_df=df2.set_index(['origin_city','origin_province','city_id_o','X_o','Y_o','dest_city','dest_province','city_id_d','X_d','Y_d']).stack().reset_index().rename(columns = {'level_10' : 'Date', 0: 'Val'})\n",
    "visual_df.head()"
   ]
  },
  {
   "cell_type": "code",
   "execution_count": null,
   "metadata": {},
   "outputs": [],
   "source": [
    "visual_df['Date'].dtypes"
   ]
  },
  {
   "cell_type": "code",
   "execution_count": null,
   "metadata": {},
   "outputs": [],
   "source": [
    "# converting to datetime format\n",
    "visual_df['Date'] = pd.to_datetime(visual_df['Date'], format= '%Y/%m/%d')"
   ]
  },
  {
   "cell_type": "code",
   "execution_count": null,
   "metadata": {},
   "outputs": [],
   "source": [
    "visual_df.dtypes"
   ]
  },
  {
   "cell_type": "code",
   "execution_count": null,
   "metadata": {},
   "outputs": [],
   "source": [
    "#Total number of traveling devices by week\n",
    "total_by_week=visual_df.groupby(visual_df.Date.dt.strftime('%W')).Val.sum().reset_index()\n",
    "#total_by_week.to_csv('./Data/summarytables/total_by_week.csv',index=False)\n",
    "total_by_week"
   ]
  },
  {
   "cell_type": "code",
   "execution_count": null,
   "metadata": {},
   "outputs": [],
   "source": [
    "total=total_by_week['Val'].sum()\n",
    "total"
   ]
  },
  {
   "cell_type": "code",
   "execution_count": null,
   "metadata": {},
   "outputs": [],
   "source": [
    "# Bar plot by Percentage\n",
    "fig, ax = plt.subplots(figsize=(40, 20))\n",
    "\n",
    "percent = total_by_week['Val']/total*100\n",
    "weeks=['Week 1','Week 2','Week 3','Week 4','Week 5','Week 6','Week 7','Week 8','Week 9','Week 10','Week 11','Week 12','Week 13','Week 14','Week 15','Week 16','Week 17']\n",
    "new_labels = [i+'  {:.2f}%'.format(j) for i, j in zip(weeks, percent)]\n",
    "\n",
    "plt.barh(weeks, total_by_week['Val'], color='gray', edgecolor='red')\n",
    "plt.yticks(range(len(weeks)), new_labels,fontsize=30)\n",
    "ax.set_title('Mobility Percent by Week in 2020', fontsize=35)\n",
    "plt.tight_layout()\n",
    "\n",
    "for spine in ax.spines.values():\n",
    "    spine.set_visible(False)\n",
    "\n",
    "ax.axes.get_xaxis().set_visible(False)\n",
    "ax.tick_params(axis=\"y\", left=False)\n",
    "#plt.savefig('./Media/MobilityPerc_by_week_2020.png')\n",
    "plt.show()"
   ]
  },
  {
   "cell_type": "code",
   "execution_count": null,
   "metadata": {},
   "outputs": [],
   "source": [
    "visual_df.shape"
   ]
  },
  {
   "cell_type": "code",
   "execution_count": null,
   "metadata": {},
   "outputs": [],
   "source": [
    "# Aggregating the whole data set by weekly and starting with every Monday to reduce and visualize it better\n",
    "df_final = (visual_df\n",
    "     .reset_index()\n",
    "     .set_index(\"Date\")\n",
    "     .groupby(['origin_city','origin_province','city_id_o','X_o','Y_o','dest_city','dest_province','city_id_d','X_d','Y_d',pd.Grouper(freq='W-MON')])[\"Val\"].sum()\n",
    "     .astype(int)\n",
    "     .reset_index())\n",
    "df_final.head()"
   ]
  },
  {
   "cell_type": "code",
   "execution_count": null,
   "metadata": {},
   "outputs": [],
   "source": [
    "df_final.shape"
   ]
  },
  {
   "cell_type": "code",
   "execution_count": null,
   "metadata": {},
   "outputs": [],
   "source": [
    "# Total Mobility By Percent\n",
    "df_total=df_final.groupby(['Date']).agg({'Val':['sum']}).reset_index()\n",
    "df_total.columns=['Date','Mobility']\n",
    "total = np.sum(df_total.loc[:,'Mobility':].values)\n",
    "df_total['Percent'] = df_total.loc[:,'Mobility':].sum(axis=1)/total * 100\n",
    "#df_total.to_csv('./Data/summarytables/total_perc_by_week.csv',index=False)\n",
    "df_total\n"
   ]
  },
  {
   "cell_type": "code",
   "execution_count": null,
   "metadata": {},
   "outputs": [],
   "source": [
    "# Reducing the data shape to filter out the lowest values for the mobility\n",
    "df_mapping = df_final[~(df_final['Val'] < 125)]  \n",
    "df_mapping.head()"
   ]
  },
  {
   "cell_type": "code",
   "execution_count": null,
   "metadata": {},
   "outputs": [],
   "source": [
    "df_date=df_mapping.groupby(['Date']).agg({'Val':['sum']}).reset_index()\n",
    "df_date.columns=['Date','Mobility']\n",
    "df_date.head()"
   ]
  },
  {
   "cell_type": "code",
   "execution_count": null,
   "metadata": {},
   "outputs": [],
   "source": [
    "# Time series plots for mobility by weeks\n",
    "plt.rc('font', size=12)\n",
    "fig, ax = plt.subplots(figsize=(40, 20))\n",
    "df_date.reset_index()\n",
    "# Specify how our lines should look\n",
    "ax.plot(df_date.Date, df_date.Mobility, color='navy', label='Mobility2020',linewidth = 7)\n",
    "# Same as above\n",
    "ax.set_xlabel('Date', fontsize=26)\n",
    "ax.set_ylabel('Mobility in Millions', fontsize=26)\n",
    "ax.set_title('Mobility by Week in 2020', fontsize=30)\n",
    "plt.xticks(fontsize=26)\n",
    "plt.yticks(fontsize=26)\n",
    "ax.grid(b=True, which='major', color='#666666', linestyle='-')\n",
    "#myplt.savefig('./Media/Mobility_by_week_2020.png')\n",
    "ax.legend(loc='upper left');"
   ]
  },
  {
   "cell_type": "code",
   "execution_count": null,
   "metadata": {},
   "outputs": [],
   "source": [
    "# Reducing the data shape to filter out the lowest values for the mobility\n",
    "df_small = df_final[~(df_final['Val'] < 1000)]  \n",
    "df_small.head()"
   ]
  },
  {
   "cell_type": "code",
   "execution_count": null,
   "metadata": {},
   "outputs": [],
   "source": [
    "df_small.shape"
   ]
  },
  {
   "cell_type": "code",
   "execution_count": null,
   "metadata": {},
   "outputs": [],
   "source": [
    "#df_small.to_csv('./Data/small_mapping.csv',index=False)"
   ]
  },
  {
   "cell_type": "code",
   "execution_count": null,
   "metadata": {},
   "outputs": [],
   "source": [
    "df_mapping.dtypes"
   ]
  },
  {
   "cell_type": "code",
   "execution_count": null,
   "metadata": {},
   "outputs": [],
   "source": [
    "df_map=df_mapping.groupby(['origin_city','X_o','Y_o']).agg({'Val':['sum']})\n",
    "df_map.head()"
   ]
  },
  {
   "cell_type": "code",
   "execution_count": null,
   "metadata": {},
   "outputs": [],
   "source": [
    "df_map.columns = df_map.columns.map(''.join)\n",
    "df_map.head()"
   ]
  },
  {
   "cell_type": "code",
   "execution_count": null,
   "metadata": {},
   "outputs": [],
   "source": [
    "df_map_dest=df_mapping.groupby(['dest_city','X_d','Y_d']).agg({'Val':['sum']})\n",
    "df_map_dest.head()"
   ]
  },
  {
   "cell_type": "code",
   "execution_count": null,
   "metadata": {},
   "outputs": [],
   "source": [
    "df_map_dest.columns = df_map_dest.columns.map(''.join)\n",
    "df_map_dest.head()"
   ]
  },
  {
   "cell_type": "code",
   "execution_count": null,
   "metadata": {},
   "outputs": [],
   "source": [
    "#df_map_dest.to_csv('./Data/mapping_dest.csv',index=True)"
   ]
  },
  {
   "cell_type": "code",
   "execution_count": null,
   "metadata": {},
   "outputs": [],
   "source": [
    "#df_mapping.to_csv('./Data/mapping_visual.csv',index=False)"
   ]
  },
  {
   "cell_type": "code",
   "execution_count": null,
   "metadata": {},
   "outputs": [],
   "source": [
    "#df_map.to_csv('./Data/mapping_origin.csv',index=True)"
   ]
  },
  {
   "cell_type": "code",
   "execution_count": null,
   "metadata": {},
   "outputs": [],
   "source": [
    "# locations file\n",
    "df3=df_final.drop(['origin_province','dest_city','dest_province','city_id_d','X_d','Y_d','Date','Val'],axis=1)\n",
    "df3.head()"
   ]
  },
  {
   "cell_type": "code",
   "execution_count": null,
   "metadata": {},
   "outputs": [],
   "source": [
    "# Reordering the dataframe for better layout \n",
    "cols_to_order=['city_id_o','origin_city','Y_o','X_o']\n",
    "new_columns = cols_to_order + (df3.columns.drop(cols_to_order).tolist())\n",
    "df3=df3[new_columns]\n",
    "df3.head()"
   ]
  },
  {
   "cell_type": "code",
   "execution_count": null,
   "metadata": {},
   "outputs": [],
   "source": [
    "#saving the csv for mapping\n",
    "#df3.drop_duplicates(['city_id_o','origin_city']).to_csv('./Data/locations.csv',index=False)"
   ]
  },
  {
   "cell_type": "code",
   "execution_count": null,
   "metadata": {},
   "outputs": [],
   "source": [
    "# Creating file to utilise both city ids and value with date in the flowmap visualization\n",
    "df4=df_mapping.drop(['origin_province','origin_city','X_o','Y_o','dest_province','dest_city','X_d','Y_d'],axis=1)\n",
    "df4.head()"
   ]
  },
  {
   "cell_type": "code",
   "execution_count": null,
   "metadata": {},
   "outputs": [],
   "source": [
    "# Reordering the dataframe for better layout \n",
    "cols_to_order=['city_id_o','city_id_d','Val','Date']\n",
    "new_columns = cols_to_order + (df4.columns.drop(cols_to_order).tolist())\n",
    "df4=df4[new_columns]\n",
    "df4.head()"
   ]
  },
  {
   "cell_type": "code",
   "execution_count": null,
   "metadata": {},
   "outputs": [],
   "source": [
    "# Flows file\n",
    "df4['Date'] = pd.to_datetime(df4['Date']).dt.strftime('%Y-%m-%d')\n",
    "df4.head()"
   ]
  },
  {
   "cell_type": "code",
   "execution_count": null,
   "metadata": {},
   "outputs": [],
   "source": [
    "old_names = df4.columns.tolist()\n",
    "old_names"
   ]
  },
  {
   "cell_type": "code",
   "execution_count": null,
   "metadata": {},
   "outputs": [],
   "source": [
    "new_names=['origin','dest','count','time']"
   ]
  },
  {
   "cell_type": "code",
   "execution_count": null,
   "metadata": {},
   "outputs": [],
   "source": [
    "df4 = df4.rename(columns=dict(zip(old_names, new_names))) \n",
    "df4.head()"
   ]
  },
  {
   "cell_type": "code",
   "execution_count": null,
   "metadata": {},
   "outputs": [],
   "source": [
    "#saving the csv for mapping\n",
    "#df4.to_csv('./Data/flows.csv',index=False)"
   ]
  },
  {
   "cell_type": "code",
   "execution_count": null,
   "metadata": {},
   "outputs": [],
   "source": [
    "#saving the csv for mapping\n",
    "#df_final.to_csv('./Data/mapping_visual.csv',index=False)"
   ]
  },
  {
   "cell_type": "markdown",
   "metadata": {},
   "source": [
    "### Total Mobility Count Analysis"
   ]
  },
  {
   "cell_type": "code",
   "execution_count": null,
   "metadata": {},
   "outputs": [],
   "source": [
    "# Aggregating by Origin City and Origin Province\n",
    "orig_df=a.drop(a.iloc[:, 2:10], axis=1)\n",
    "orig_df.head()"
   ]
  },
  {
   "cell_type": "code",
   "execution_count": null,
   "metadata": {},
   "outputs": [],
   "source": [
    "orig_df.shape"
   ]
  },
  {
   "cell_type": "code",
   "execution_count": null,
   "metadata": {},
   "outputs": [],
   "source": [
    "# just origin city\n",
    "origin_city_df=orig_df.drop(columns=['origin_province'])\n",
    "origin_city_df.head()"
   ]
  },
  {
   "cell_type": "code",
   "execution_count": null,
   "metadata": {},
   "outputs": [],
   "source": [
    "bar_orig=origin_city_df.groupby('origin_city').sum().sum()"
   ]
  },
  {
   "cell_type": "code",
   "execution_count": null,
   "metadata": {},
   "outputs": [],
   "source": [
    "# Origin by weeks\n",
    "by_day=df2.drop(df2.iloc[:, 2:10], axis=1)\n",
    "by_day.head()"
   ]
  },
  {
   "cell_type": "code",
   "execution_count": null,
   "metadata": {},
   "outputs": [],
   "source": [
    "# just origin city\n",
    "origin_city_day=by_day.drop(columns=['origin_province'])\n",
    "origin_city_day.head()"
   ]
  },
  {
   "cell_type": "code",
   "execution_count": null,
   "metadata": {},
   "outputs": [],
   "source": [
    "bar_orig_day=origin_city_day.groupby('origin_city').sum().sum()"
   ]
  },
  {
   "cell_type": "code",
   "execution_count": null,
   "metadata": {},
   "outputs": [],
   "source": [
    "# Bar plot by Day\n",
    "ax=bar_orig_day.plot(kind='barh',color='slategrey')\n",
    "plt.gcf().set_size_inches(100, 200)\n",
    "ax.set_xticklabels(ax.get_xticklabels(), rotation=40, ha=\"right\")\n",
    "ax.get_legend()\n",
    "for i, v in enumerate(bar_orig_day):\n",
    "    ax.text(v + 3, i + .25, str(v), color='red', fontweight='bold')\n",
    "plt.title('Total Mobility Count by Day', fontsize=20)\n",
    "plt.xlabel('Count in Millions', fontsize=15)\n",
    "plt.ylabel('Week', fontsize=15)\n",
    "plt.grid(b=True, which='major', color='#666666', linestyle='-')\n",
    "#plt.savefig('./Media/total_origin_mobility_By_Day_2020.png') \n",
    "plt.show()"
   ]
  },
  {
   "cell_type": "code",
   "execution_count": null,
   "metadata": {},
   "outputs": [],
   "source": [
    "# BAr plot by weeks\n",
    "ax=bar_orig.plot(kind='bar',color='slategrey')\n",
    "plt.gcf().set_size_inches(20, 10)\n",
    "ax.set_xticklabels(ax.get_xticklabels(), rotation=40, ha=\"right\")\n",
    "ax.get_legend()\n",
    "plt.title('Total Mobility Count by Weeks', fontsize=20)\n",
    "plt.xlabel('Week', fontsize=15)\n",
    "plt.ylabel('Count in Millions', fontsize=15)\n",
    "plt.grid(b=True, which='major', color='#666666', linestyle='-')\n",
    "#plt.savefig('./Media/total_origin_mobility2020.png') \n",
    "plt.show()\n"
   ]
  },
  {
   "cell_type": "code",
   "execution_count": null,
   "metadata": {},
   "outputs": [],
   "source": [
    "# Bar plot horizontal\n",
    "ax=bar_orig.plot(kind='barh',color='slategrey')\n",
    "plt.gcf().set_size_inches(20, 15)\n",
    "ax.set_xticklabels(ax.get_xticklabels(), rotation=40, ha=\"right\")\n",
    "ax.get_legend()\n",
    "for i, v in enumerate(bar_orig):\n",
    "    ax.text(v + 3, i + .25, str(v), color='red', fontweight='bold')\n",
    "plt.title('Total Mobility Count by Weeks', fontsize=20)\n",
    "plt.xlabel('Count in Millions', fontsize=15)\n",
    "plt.ylabel('Week', fontsize=15)\n",
    "plt.grid(b=True, which='major', color='#666666', linestyle='-')\n",
    "#plt.savefig('./Media/total_origin_mobility2020_2.png') \n",
    "plt.show()"
   ]
  },
  {
   "cell_type": "markdown",
   "metadata": {},
   "source": [
    "### Origin City Analysis"
   ]
  },
  {
   "cell_type": "code",
   "execution_count": null,
   "metadata": {},
   "outputs": [],
   "source": [
    "# grouping origin city by total sum daily\n",
    "origin_city_aggreagted_by_day=origin_city_df.groupby(['origin_city']).sum()\n",
    "origin_city_aggreagted_by_day.head()"
   ]
  },
  {
   "cell_type": "code",
   "execution_count": null,
   "metadata": {},
   "outputs": [],
   "source": [
    "# grouping to check the total sum of the values of movement for each origin province\n",
    "o_prov=orig_df.groupby(['origin_province']).sum()\n",
    "o_prov.head()"
   ]
  },
  {
   "cell_type": "code",
   "execution_count": null,
   "metadata": {},
   "outputs": [],
   "source": [
    "o_prov.describe()"
   ]
  },
  {
   "cell_type": "code",
   "execution_count": null,
   "metadata": {},
   "outputs": [],
   "source": [
    "o_prov['origin_province']=o_prov.index"
   ]
  },
  {
   "cell_type": "code",
   "execution_count": null,
   "metadata": {},
   "outputs": [],
   "source": [
    "# Plotting a bar plot to understand the main hotspots in the origin cities for travelling\n",
    "ax=o_prov.plot(kind='bar',width=0.9,cmap='magma')\n",
    "plt.gcf().set_size_inches(30, 10)\n",
    "ax.set_xticklabels(ax.get_xticklabels(), rotation=40, ha=\"right\")\n",
    "ax.get_legend()\n",
    "plt.title('Mobility Count from the Province of Origin over 17 Weeks', fontsize=20)\n",
    "plt.xlabel('Province', fontsize=15)\n",
    "plt.ylabel('Count in Millions', fontsize=15)\n",
    "plt.grid(b=True, which='major', color='#666666', linestyle='-')\n",
    "#plt.savefig('./Media/origin_mobility2020.png') \n",
    "plt.show()\n"
   ]
  },
  {
   "cell_type": "code",
   "execution_count": null,
   "metadata": {
    "scrolled": true
   },
   "outputs": [],
   "source": [
    "# Plotting a bar plot to understand the main hotspots in the origin cities for travelling\n",
    "ax=o_prov.plot(kind='barh',width=0.9,cmap='magma')\n",
    "plt.gcf().set_size_inches(20, 40)\n",
    "ax.set_xticklabels(ax.get_xticklabels(), rotation=40, ha=\"right\")\n",
    "ax.get_legend()\n",
    "plt.title('Mobility Count from the Province of Origin over 17 Weeks', fontsize=20)\n",
    "plt.xlabel('Count in Millions', fontsize=15)\n",
    "plt.ylabel('Province', fontsize=15)\n",
    "plt.grid(b=True, which='major', color='#666666', linestyle='-')\n",
    "#plt.savefig('./Media/origin_mobility2020_2.png') \n",
    "plt.show()"
   ]
  },
  {
   "cell_type": "code",
   "execution_count": null,
   "metadata": {},
   "outputs": [],
   "source": [
    "a.groupby(['origin_province']).max()"
   ]
  },
  {
   "cell_type": "code",
   "execution_count": null,
   "metadata": {},
   "outputs": [],
   "source": [
    "# aggregating by weeks for origin city\n",
    "df_orig=a.groupby(['origin_city']).sum()\n",
    "df_orig.head()"
   ]
  },
  {
   "cell_type": "markdown",
   "metadata": {},
   "source": [
    "### Destination City Analysis"
   ]
  },
  {
   "cell_type": "code",
   "execution_count": null,
   "metadata": {},
   "outputs": [],
   "source": [
    "dep=a.drop(df2.iloc[:, 0:5], axis=1)\n",
    "dep.head()"
   ]
  },
  {
   "cell_type": "code",
   "execution_count": null,
   "metadata": {},
   "outputs": [],
   "source": [
    "dep_df=dep.drop(dep.iloc[:, 3:5], axis=1)\n",
    "dep_df.head()"
   ]
  },
  {
   "cell_type": "code",
   "execution_count": null,
   "metadata": {},
   "outputs": [],
   "source": [
    "dep_df.drop('city_id_d',axis=1,inplace=True)\n",
    "dep_df.head()"
   ]
  },
  {
   "cell_type": "code",
   "execution_count": null,
   "metadata": {},
   "outputs": [],
   "source": [
    "dep_bar=dep_df.groupby('dest_city').sum().sum()\n",
    "dep_bar"
   ]
  },
  {
   "cell_type": "code",
   "execution_count": null,
   "metadata": {},
   "outputs": [],
   "source": [
    "# aggregating destination city and province data weekly\n",
    "#d= dep_df.set_index(['dest_city','dest_province','city_id_d']).rename(columns=lambda x: pd.to_datetime(x))\n",
    "#d = d.resample('W', axis=1).sum().reset_index()\n",
    "#d.head(20)"
   ]
  },
  {
   "cell_type": "code",
   "execution_count": null,
   "metadata": {},
   "outputs": [],
   "source": [
    "d_prov=dep_df.groupby(['dest_province']).sum()\n",
    "d_prov.head()"
   ]
  },
  {
   "cell_type": "code",
   "execution_count": null,
   "metadata": {},
   "outputs": [],
   "source": [
    "d_prov['dest_province']=d_prov.index"
   ]
  },
  {
   "cell_type": "code",
   "execution_count": null,
   "metadata": {},
   "outputs": [],
   "source": [
    "# Plotting a bar plot to understand the main hotspots in the destination cities for travelling\n",
    "ax=d_prov.plot(kind='bar',width=0.9,cmap='magma')\n",
    "plt.gcf().set_size_inches(30, 10)\n",
    "ax.set_xticklabels(ax.get_xticklabels(), rotation=40, ha=\"right\")\n",
    "ax.get_legend()\n",
    "plt.title('Mobility Count to the Province of Destination over 17 Weeks', fontsize=20)\n",
    "plt.xlabel('Province', fontsize=15)\n",
    "plt.ylabel('Count in Millions', fontsize=15)\n",
    "plt.grid(b=True, which='major', color='#666666', linestyle='-')\n",
    "#plt.savefig('./Media/destination_mobility2020.png')\n",
    "plt.show()\n"
   ]
  },
  {
   "cell_type": "code",
   "execution_count": null,
   "metadata": {},
   "outputs": [],
   "source": [
    "# Plotting a bar plot to understand the main hotspots in the destination cities for travelling\n",
    "ax=d_prov.plot(kind='barh',width=0.9,cmap='magma')\n",
    "plt.gcf().set_size_inches(20, 40)\n",
    "ax.set_xticklabels(ax.get_xticklabels(), rotation=40, ha=\"right\")\n",
    "ax.get_legend()\n",
    "plt.title('Mobility Count to the Province of Destination over 17 Weeks', fontsize=20)\n",
    "plt.xlabel('Count in Millions', fontsize=15)\n",
    "plt.ylabel('Province', fontsize=15)\n",
    "plt.grid(b=True, which='major', color='#666666', linestyle='-')\n",
    "#plt.savefig('./Media/destination_mobility2020_2.png')\n",
    "plt.show()\n"
   ]
  },
  {
   "cell_type": "markdown",
   "metadata": {},
   "source": [
    "### Saving data for Self Organizing Maps"
   ]
  },
  {
   "cell_type": "code",
   "execution_count": null,
   "metadata": {},
   "outputs": [],
   "source": [
    "mod=a.drop(['X_o','Y_o','X_d','Y_d'],axis=1)\n",
    "mod.head()"
   ]
  },
  {
   "cell_type": "code",
   "execution_count": null,
   "metadata": {},
   "outputs": [],
   "source": [
    "#saving the file\n",
    "#mod.to_csv('./Data/som2020.csv', index=False)"
   ]
  },
  {
   "cell_type": "code",
   "execution_count": null,
   "metadata": {},
   "outputs": [],
   "source": [
    "a['origin_province'].nunique()"
   ]
  }
 ],
 "metadata": {
  "kernelspec": {
   "display_name": "Python 3",
   "language": "python",
   "name": "python3"
  },
  "language_info": {
   "codemirror_mode": {
    "name": "ipython",
    "version": 3
   },
   "file_extension": ".py",
   "mimetype": "text/x-python",
   "name": "python",
   "nbconvert_exporter": "python",
   "pygments_lexer": "ipython3",
   "version": "3.7.1"
  }
 },
 "nbformat": 4,
 "nbformat_minor": 2
}
