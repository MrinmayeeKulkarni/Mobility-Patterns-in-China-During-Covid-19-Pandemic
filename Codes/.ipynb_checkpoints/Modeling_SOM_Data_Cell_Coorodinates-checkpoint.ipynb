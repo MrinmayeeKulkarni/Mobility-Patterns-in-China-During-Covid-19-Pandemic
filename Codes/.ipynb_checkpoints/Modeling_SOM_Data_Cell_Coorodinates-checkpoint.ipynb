{
 "cells": [
  {
   "cell_type": "code",
   "execution_count": null,
   "metadata": {},
   "outputs": [],
   "source": [
    "# importing libraries\n",
    "import pandas as pd\n",
    "from collections import Counter\n",
    "import numpy as np\n",
    "import matplotlib.pyplot as plt\n",
    "import matplotlib.pyplot as cm\n",
    "from matplotlib.colors import hsv_to_rgb\n",
    "from cycler import cycler\n",
    "import matplotlib\n",
    "import seaborn as sns\n",
    "%matplotlib inline\n",
    "import warnings\n",
    "warnings.filterwarnings('ignore')\n"
   ]
  },
  {
   "cell_type": "code",
   "execution_count": null,
   "metadata": {},
   "outputs": [],
   "source": [
    "pd.set_option('display.max_columns', 500)"
   ]
  },
  {
   "cell_type": "code",
   "execution_count": null,
   "metadata": {},
   "outputs": [],
   "source": [
    "# Loading the data \n",
    "path = './Data/'\n"
   ]
  },
  {
   "cell_type": "code",
   "execution_count": null,
   "metadata": {},
   "outputs": [],
   "source": [
    "# loading city code file\n",
    "filename = 'som_final_2020.csv'\n",
    "df1 = pd.read_csv(path+filename)\n",
    "df1.head()"
   ]
  },
  {
   "cell_type": "code",
   "execution_count": null,
   "metadata": {},
   "outputs": [],
   "source": [
    "\n",
    "#df3[['origin_city','dest_city']].value_counts().nlargest(n=3).values[0]\n",
    "# get top 10 most frequent names\n",
    "n = 3\n",
    "df1[['origin_city','dest_city','X','Y','Cell.Nmbr']].value_counts()[:n].index.tolist()\n"
   ]
  },
  {
   "cell_type": "code",
   "execution_count": null,
   "metadata": {},
   "outputs": [],
   "source": [
    "# top n rows ordered by multiple columns\n",
    "winning=df1.groupby(['origin_city','dest_city','origin_province','dest_province','Cell.Nmbr']).sum().sort_values(['origin_province','Cell.Nmbr'],ascending=False).reset_index()\n",
    "#winning.to_csv('./Data/summarytables/winning_node2.csv',index=False)\n",
    "winning.shape\n"
   ]
  },
  {
   "cell_type": "code",
   "execution_count": null,
   "metadata": {},
   "outputs": [],
   "source": [
    "winning.head(50)"
   ]
  },
  {
   "cell_type": "code",
   "execution_count": null,
   "metadata": {},
   "outputs": [],
   "source": [
    "filename1='som_final_2019.csv'\n",
    "df2 = pd.read_csv(path+filename1)\n",
    "df2.head()"
   ]
  },
  {
   "cell_type": "code",
   "execution_count": null,
   "metadata": {},
   "outputs": [],
   "source": [
    "# top n rows ordered by multiple columns\n",
    "topcommon=df2.groupby(['origin_city','dest_city','origin_province','dest_province','Cell.Nmbr']).sum().sort_values(['origin_province','Cell.Nmbr'],ascending=False).reset_index()\n",
    "#topcommon.to_csv('./Data/summarytables/winning_node2019.csv',index=False)\n",
    "topcommon.shape\n"
   ]
  },
  {
   "cell_type": "code",
   "execution_count": null,
   "metadata": {},
   "outputs": [],
   "source": []
  }
 ],
 "metadata": {
  "kernelspec": {
   "display_name": "Python 3",
   "language": "python",
   "name": "python3"
  },
  "language_info": {
   "codemirror_mode": {
    "name": "ipython",
    "version": 3
   },
   "file_extension": ".py",
   "mimetype": "text/x-python",
   "name": "python",
   "nbconvert_exporter": "python",
   "pygments_lexer": "ipython3",
   "version": "3.7.1"
  }
 },
 "nbformat": 4,
 "nbformat_minor": 2
}
